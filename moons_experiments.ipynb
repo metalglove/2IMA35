{
 "cells": [
  {
   "cell_type": "code",
   "execution_count": null,
   "metadata": {},
   "outputs": [],
   "source": [
    "from afmario import BoruvkasAlgorithmSingleMachine, Graph, BoruvkasAlgorithm\n",
    "import matplotlib.pyplot as plt\n",
    "from sklearn.datasets import make_moons"
   ]
  },
  {
   "cell_type": "code",
   "execution_count": null,
   "metadata": {},
   "outputs": [],
   "source": [
    "import math\n",
    "\n",
    "n_samples = 1500\n",
    "V, y = make_moons(n_samples=n_samples, noise=0.00)\n",
    "\n",
    "points = V\n",
    "\n",
    "def generate_graph(points):\n",
    "    G = Graph()\n",
    "    G.points = points\n",
    "\n",
    "    # add a vertex for each point (map vertex id to xy data from points list)\n",
    "    for i in range(len(points)):\n",
    "        G.add_vertex(i)\n",
    "\n",
    "    # add an edge for each possible point\n",
    "    for i in G.V:\n",
    "        for j in G.V:\n",
    "            if i == j:\n",
    "                continue\n",
    "\n",
    "            (x1, y1) = G.points[i]\n",
    "            (x2, y2) = G.points[j]\n",
    "\n",
    "            w = math.ceil(math.sqrt((x1 - x2)**2 + (y1 - y2)**2))\n",
    "            G.add_edge(i, j, w)\n",
    "\n",
    "    return G\n",
    "\n",
    "Gmewns1 = generate_graph(points)\n",
    "\n",
    "def generate_plot_for_graph(G):\n",
    "\n",
    "    plt.figure()\n",
    "\n",
    "    xs, ys = [], []\n",
    "    for x in G.V.keys():\n",
    "        xs.append(G.points[x][0])\n",
    "        ys.append(G.points[x][1])\n",
    "\n",
    "    plt.scatter(xs, ys, c='r')\n",
    "\n",
    "generate_plot_for_graph(Gmewns1)"
   ]
  }
 ],
 "metadata": {
  "kernelspec": {
   "display_name": "MPA",
   "language": "python",
   "name": "python3"
  },
  "language_info": {
   "name": "python",
   "version": "3.11.7"
  }
 },
 "nbformat": 4,
 "nbformat_minor": 2
}
