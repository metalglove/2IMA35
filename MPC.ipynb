{
 "cells": [
  {
   "cell_type": "code",
   "execution_count": 1,
   "metadata": {},
   "outputs": [],
   "source": [
    "from algorithms.AffinityClusteringMPC import AffinityClusteringMPC\n",
    "from algorithms.Graph import Graph\n",
    "\n",
    "G = Graph()\n",
    "G.add_vertex(1)\n",
    "G.add_vertex(2)\n",
    "G.add_vertex(3)\n",
    "G.add_vertex(4)\n",
    "G.add_vertex(5)\n",
    "G.add_vertex(6)\n",
    "G.add_vertex(7)\n",
    "G.add_vertex(8)\n",
    "G.add_vertex(9)\n",
    "G.add_vertex(10)\n",
    "G.add_edge(1, 7, 8)\n",
    "G.add_edge(1, 2, 2)\n",
    "G.add_edge(2, 3, 1)\n",
    "G.add_edge(2, 6, 8)\n",
    "G.add_edge(3, 7, 7)\n",
    "G.add_edge(3, 4, 6)\n",
    "G.add_edge(3, 6, 7)\n",
    "G.add_edge(4, 5, 1)\n",
    "G.add_edge(4, 7, 8)\n",
    "G.add_edge(4, 10, 5)\n",
    "G.add_edge(5, 6, 8)\n",
    "G.add_edge(7, 9, 4)\n",
    "G.add_edge(8, 7, 3)\n",
    "G.add_edge(8, 9, 3)\n",
    "G.add_edge(8, 10, 2)\n",
    "G.add_edge(10, 9, 4)"
   ]
  },
  {
   "cell_type": "code",
   "execution_count": 2,
   "metadata": {},
   "outputs": [
    {
     "name": "stderr",
     "output_type": "stream",
     "text": [
      "Setting default log level to \"WARN\".\n",
      "To adjust logging level use sc.setLogLevel(newLevel). For SparkR, use setLogLevel(newLevel).\n",
      "24/12/24 05:09:20 WARN NativeCodeLoader: Unable to load native-hadoop library for your platform... using builtin-java classes where applicable\n",
      "[Stage 0:>                                                          (0 + 8) / 8]\r"
     ]
    },
    {
     "name": "stdout",
     "output_type": "stream",
     "text": [
      "Lambda: {8: 10, 1: 2, 9: 8, 2: 3, 10: 8, 3: 2, 4: 5, 5: 4, 6: 3, 7: 8}\n",
      "Neighborhoods: {8: {8, 9, 10, 7}, 2: {1, 2, 3, 6}, 4: {4, 5}}\n",
      "contracted_graph: {(8, 4): 5, (4, 2): 6, (8, 2): 7}\n"
     ]
    },
    {
     "name": "stderr",
     "output_type": "stream",
     "text": [
      "                                                                                \r"
     ]
    }
   ],
   "source": [
    "alg = AffinityClusteringMPC()\n",
    "alg.run(G.V.copy(), G.E.copy())"
   ]
  },
  {
   "cell_type": "code",
   "execution_count": null,
   "metadata": {},
   "outputs": [],
   "source": []
  }
 ],
 "metadata": {
  "kernelspec": {
   "display_name": "mpa_ml",
   "language": "python",
   "name": "python3"
  },
  "language_info": {
   "codemirror_mode": {
    "name": "ipython",
    "version": 3
   },
   "file_extension": ".py",
   "mimetype": "text/x-python",
   "name": "python",
   "nbconvert_exporter": "python",
   "pygments_lexer": "ipython3",
   "version": "3.13.0"
  }
 },
 "nbformat": 4,
 "nbformat_minor": 2
}
