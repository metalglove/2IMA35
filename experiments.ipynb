{
 "cells": [
  {
   "cell_type": "markdown",
   "metadata": {},
   "source": [
    "# Experiments"
   ]
  },
  {
   "cell_type": "code",
   "execution_count": 4,
   "metadata": {},
   "outputs": [],
   "source": [
    "import math\n",
    "\n",
    "import numpy as np\n",
    "import pandas as pd\n",
    "import matplotlib.pyplot as plt\n",
    "\n",
    "import AffinityClustering as ACC\n",
    "from Plotter import Plotter\n",
    "from DataReader import DataReader\n",
    "from DataModifier import DataModifier"
   ]
  },
  {
   "cell_type": "markdown",
   "metadata": {},
   "source": [
    "## Preparation"
   ]
  },
  {
   "cell_type": "code",
   "execution_count": null,
   "metadata": {},
   "outputs": [],
   "source": [
    "from datetime import datetime\n",
    "\n",
    "start_time = datetime.now()\n",
    "print('Starting time:', start_time)\n",
    "\n",
    "file_location = 'Results_buckets/'\n",
    "plotter = Plotter(None, None, file_location)"
   ]
  },
  {
   "cell_type": "markdown",
   "metadata": {},
   "source": [
    "## Read data"
   ]
  },
  {
   "cell_type": "code",
   "execution_count": null,
   "metadata": {},
   "outputs": [],
   "source": [
    "# Read data\n",
    "from sklearn.datasets import make_circles\n",
    "from sklearn.preprocessing import StandardScaler\n",
    "# data_reader = DataReader()\n",
    "# loc = 'datasets/sklearn/data_two_circles.csv'\n",
    "# V, n, E = data_reader.read_data_set_from_csvfile(loc)\n",
    "# print('Read dataset: ', loc)\n",
    "\n",
    "\n",
    "X, y = make_circles()\n",
    "\n",
    "X = StandardScaler().fit_transform(X)\n",
    "\n",
    "\n"
   ]
  },
  {
   "cell_type": "code",
   "execution_count": null,
   "metadata": {},
   "outputs": [
    {
     "ename": "ImportError",
     "evalue": "cannot import name 'SparkConf' from 'pyspark.sql' (/Users/glovali/repos/MSTforDenseGraphs/mpa_ml/lib/python3.13/site-packages/pyspark/sql/__init__.py)",
     "output_type": "error",
     "traceback": [
      "\u001b[0;31m---------------------------------------------------------------------------\u001b[0m",
      "\u001b[0;31mImportError\u001b[0m                               Traceback (most recent call last)",
      "Cell \u001b[0;32mIn[3], line 1\u001b[0m\n\u001b[0;32m----> 1\u001b[0m \u001b[38;5;28;01mfrom\u001b[39;00m \u001b[38;5;21;01mpyspark\u001b[39;00m\u001b[38;5;21;01m.\u001b[39;00m\u001b[38;5;21;01msql\u001b[39;00m \u001b[38;5;28;01mimport\u001b[39;00m SparkSession, SparkConf\n\u001b[1;32m      3\u001b[0m conf \u001b[38;5;241m=\u001b[39m SparkConf()\u001b[38;5;241m.\u001b[39msetAppName(\u001b[38;5;124m'\u001b[39m\u001b[38;5;124mMSTforDenseGraphs\u001b[39m\u001b[38;5;124m'\u001b[39m)\n\u001b[1;32m      4\u001b[0m sc \u001b[38;5;241m=\u001b[39m SparkContext(conf\u001b[38;5;241m=\u001b[39mconf)\n",
      "\u001b[0;31mImportError\u001b[0m: cannot import name 'SparkConf' from 'pyspark.sql' (/Users/glovali/repos/MSTforDenseGraphs/mpa_ml/lib/python3.13/site-packages/pyspark/sql/__init__.py)"
     ]
    }
   ],
   "source": [
    "from pyspark.sql import SparkSession\n",
    "from pyspark import SparkConf, SparkContext\n",
    "from mstfordensegraphs import partion_vertices, get_edges, find_mst\n",
    "\n",
    "conf = SparkConf().setAppName('MST_algo')\n",
    "sc = SparkContext.getOrCreate(conf=conf)\n",
    "\n",
    "n = len(X)\n",
    "c = 0\n",
    "epsilon = 0\n",
    "\n",
    "k = math.ceil(n ** ((c - epsilon) / 2))\n",
    "print(\"k: \", k)\n",
    "\n",
    "U, V = partion_vertices(V, k)\n",
    "\n",
    "rddUV = sc.parallelize(U)\\\n",
    "    .cartesian(sc.parallelize(V))\\\n",
    "        .map(lambda x: get_edges(x[0], x[1], E))\\\n",
    "            .map(lambda x: (find_mst(x[0], x[1]), x[2]))\n",
    "\n",
    "both = rddUV.collect()\n"
   ]
  },
  {
   "cell_type": "code",
   "execution_count": null,
   "metadata": {},
   "outputs": [],
   "source": []
  }
 ],
 "metadata": {
  "kernelspec": {
   "display_name": "mpa_ml",
   "language": "python",
   "name": "python3"
  },
  "language_info": {
   "codemirror_mode": {
    "name": "ipython",
    "version": 3
   },
   "file_extension": ".py",
   "mimetype": "text/x-python",
   "name": "python",
   "nbconvert_exporter": "python",
   "pygments_lexer": "ipython3",
   "version": "3.13.0"
  }
 },
 "nbformat": 4,
 "nbformat_minor": 2
}
