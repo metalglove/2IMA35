{
 "cells": [
  {
   "cell_type": "code",
   "execution_count": 1,
   "metadata": {},
   "outputs": [],
   "source": [
    "from matplotlib import pyplot as plt\n",
    "import numpy as np\n",
    "from pyspark import SparkConf, SparkContext\n",
    "from algorithms.GreedySubmodular import GreedySubmodular\n",
    "from time import time\n",
    "import findspark\n",
    "\n",
    "np.random.seed(56)\n",
    "findspark.init()\n",
    "\n",
    "# k\n",
    "k = 2\n",
    "minlim = 0\n",
    "maxlim = 100\n",
    "\n",
    "def generate_dataset(size):\n",
    "    # points\n",
    "    coords_x = np.random.randint(minlim, maxlim, size)\n",
    "    coords_y = np.random.randint(minlim, maxlim, size)\n",
    "    return coords_x, coords_y\n",
    "\n",
    "def plot(balls, points, num_balls, size):\n",
    "    colors = plt.get_cmap('viridis')(np.linspace(0, 1, len(balls)))\n",
    "    fig, ax = plt.subplots(figsize=(5, 5))\n",
    "    ax.set_title(f'Max cover set k = {k}, balls = {num_balls}, n = {size},')\n",
    "    plt.xlim(minlim, maxlim)\n",
    "    plt.ylim(minlim, maxlim)\n",
    "\n",
    "    for i, (x, y, r) in enumerate(balls):\n",
    "        circle = plt.Circle((x, y), r, color=colors[i])\n",
    "        ax.add_patch(circle)\n",
    "\n",
    "    x, y = zip(*points)\n",
    "    ax.scatter(x, y)\n",
    "    plt.show()"
   ]
  },
  {
   "cell_type": "code",
   "execution_count": null,
   "metadata": {},
   "outputs": [],
   "source": [
    "timings = []\n",
    "sizes = []\n",
    "conf = SparkConf('local[]').setAppName('GreedySubmodular')\n",
    "sc = SparkContext.getOrCreate(conf=conf)\n",
    "\n",
    "for i in range(15):\n",
    "    # x, y, r\n",
    "    balls = set[tuple[int, int, int]]([(1, 3, 4), (50, 50, 10), (8, 3, 5), (20, 3, 5), (20, 70, 5)])\n",
    "    num_balls = len(balls)\n",
    "\n",
    "    i = i + 1\n",
    "    size = i * 500 \n",
    "    coords_x, coords_y = generate_dataset(size)\n",
    "    # plot(balls, list(zip(coords_x, coords_y)), num_balls, size)\n",
    "\n",
    "    # algorithm\n",
    "    alg = GreedySubmodular(sc, coords_x, coords_y)\n",
    "    t0 = time()\n",
    "    O_balls, O_points = alg.run(k, balls)\n",
    "    t1 = time()\n",
    "    timings.append(t1 - t0)\n",
    "    sizes.append(size)\n",
    "    print(f'timing = {t1 - t0}')\n",
    "\n",
    "    # plot(O_balls, O_points, num_balls, size)"
   ]
  },
  {
   "cell_type": "code",
   "execution_count": null,
   "metadata": {},
   "outputs": [],
   "source": [
    "# plot performance graph\n",
    "fig = plt.figure(figsize=(5, 5))\n",
    "\n",
    "plt.plot(sizes, timings)"
   ]
  },
  {
   "cell_type": "code",
   "execution_count": null,
   "metadata": {},
   "outputs": [],
   "source": []
  }
 ],
 "metadata": {
  "kernelspec": {
   "display_name": "mpa",
   "language": "python",
   "name": "python3"
  },
  "language_info": {
   "codemirror_mode": {
    "name": "ipython",
    "version": 3
   },
   "file_extension": ".py",
   "mimetype": "text/x-python",
   "name": "python",
   "nbconvert_exporter": "python",
   "pygments_lexer": "ipython3",
   "version": "3.11.9"
  }
 },
 "nbformat": 4,
 "nbformat_minor": 2
}
